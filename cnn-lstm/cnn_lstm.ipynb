{
 "cells": [
  {
   "cell_type": "code",
   "execution_count": 1,
   "metadata": {},
   "outputs": [],
   "source": [
    "from split_dataset import SplitDataset\n",
    "from extract_image import ExtractImage\n",
    "import os"
   ]
  },
  {
   "cell_type": "code",
   "execution_count": 2,
   "metadata": {},
   "outputs": [],
   "source": [
    "#PARENT DIRECTORY\n",
    "PARENT_DIRECTORY = os.getcwd()\n",
    "#PATH DATASET FOLDER TRAIN, TEST AND DEV SIGN LANGUAGE\n",
    "SPLIT_DATASET_PATH = os.path.join(PARENT_DIRECTORY,'split-dataset')\n",
    "EXTRACTED_IMAGE_PATH = os.path.join(PARENT_DIRECTORY , 'extracted-image')"
   ]
  },
  {
   "cell_type": "code",
   "execution_count": 3,
   "metadata": {},
   "outputs": [],
   "source": [
    "# CHECK IF THE SPLIT DATASET FOLDER NOT EXITS OR NOT HAVE DIR\n",
    "if not os.path.exists(SPLIT_DATASET_PATH) or os.path.isdir(SPLIT_DATASET_PATH):\n",
    "    #GENERATE TRAIN, TEST AND DEV DATASET\n",
    "    SplitDataset()"
   ]
  },
  {
   "cell_type": "code",
   "execution_count": 4,
   "metadata": {},
   "outputs": [
    {
     "name": "stdout",
     "output_type": "stream",
     "text": [
      "Total folder videos for training: 55\n",
      "Total folder videos for testing: 54\n",
      "Total folder videos for dev: 53\n"
     ]
    }
   ],
   "source": [
    "TRAIN_DATASET = os.path.join(SPLIT_DATASET_PATH, 'train')\n",
    "TEST_DATASET  = os.path.join(SPLIT_DATASET_PATH, 'test')\n",
    "DEV_DATASET   = os.path.join(SPLIT_DATASET_PATH, 'dev')\n",
    "\n",
    "print(f\"Total folder videos for training: {len(TRAIN_DATASET)}\")\n",
    "print(f\"Total folder videos for testing: {len(TEST_DATASET)}\")\n",
    "print(f\"Total folder videos for dev: {len(DEV_DATASET)}\")"
   ]
  },
  {
   "cell_type": "code",
   "execution_count": 5,
   "metadata": {},
   "outputs": [
    {
     "name": "stdout",
     "output_type": "stream",
     "text": [
      "completed extract image\n"
     ]
    }
   ],
   "source": [
    "if not os.path.exists(EXTRACTED_IMAGE_PATH) or os.path.isdir(EXTRACTED_IMAGE_PATH):\n",
    "    #EXTRACT VIDEO TO IMAGE. TRAIN, TEST AND DEV DATASET\n",
    "    DATASET_PATH = [\n",
    "        TRAIN_DATASET,\n",
    "        TEST_DATASET,\n",
    "        DEV_DATASET\n",
    "    ]\n",
    "    \n",
    "    EXTRATED_FOLDER_NAME = [\n",
    "        'train',\n",
    "        'test',\n",
    "        'dev'\n",
    "    ]\n",
    "\n",
    "    for index , datasetPath in enumerate(DATASET_PATH):\n",
    "        ExtractImage(saveFolderPath=EXTRACTED_IMAGE_PATH,folderName=EXTRATED_FOLDER_NAME[index],folderFiles=datasetPath)\n",
    "    \n",
    "    print('completed extract image')"
   ]
  }
 ],
 "metadata": {
  "kernelspec": {
   "display_name": "Python 3",
   "language": "python",
   "name": "python3"
  },
  "language_info": {
   "codemirror_mode": {
    "name": "ipython",
    "version": 3
   },
   "file_extension": ".py",
   "mimetype": "text/x-python",
   "name": "python",
   "nbconvert_exporter": "python",
   "pygments_lexer": "ipython3",
   "version": "3.11.4"
  },
  "orig_nbformat": 4
 },
 "nbformat": 4,
 "nbformat_minor": 2
}
